{
 "cells": [
  {
   "cell_type": "markdown",
   "metadata": {
    "collapsed": true
   },
   "source": [
    "# Udacity Project 1: The Science of Decisions\n",
    "This project is about analyzing a dataset of a stroop effect study that is conducted upon 25 participants. You can learn more about stroop effect from [this Wikipedia page](https://en.wikipedia.org/wiki/Stroop_effect).\n",
    "\n",
    "Throughout this report, I will refer to congruent task when talking about the task when the words are congruent their color and to incongruent task when talking about the task when the words are incongruent with their color."
   ]
  },
  {
   "cell_type": "markdown",
   "metadata": {},
   "source": [
    "## 1. Independent and Dependent Variables\n",
    "- Independent Variable: Congruency of Words and Their Color\n",
    "- Dependent Variable: Time to Complete the Task"
   ]
  },
  {
   "cell_type": "markdown",
   "metadata": {},
   "source": [
    "## 2. Hypothesis and Appropriate Statistical Test\n",
    "### Hypotheses\n",
    "- **Null Hypothesis** (H0): The population mean of time to complete congruent task is equal to the population mean of time to complete incongruent task\n",
    "$$H_0:\\mu_c=\\mu_i$$\n",
    "$$H_0:\\mu_c-\\mu_i=0$$\n",
    "$$H_0:\\mu_D=0$$\n",
    "- **Alternative Hypothesis** (H1): The population mean of time to complete congruent task is different from the population mean of time to complete incongruent task\n",
    "$$H_1:\\mu_c\\neq\\mu_i$$\n",
    "$$H_1:\\mu_c-\\mu_i\\neq0$$\n",
    "$$H_1:\\mu_D\\neq0$$\n",
    "\n",
    "### Appropriate Statistical Test\n",
    "An appropriate test for this analysis is **t-test** for dependent samples because of the followings:\n",
    "1. Population mean and population standard deviation is unknown.\n",
    "2. The samples are dependent because the experiment is conducted with *within-subject design* where each participant is measured repeatedly under different conditions.\n",
    "3. The data are paired."
   ]
  },
  {
   "cell_type": "markdown",
   "metadata": {},
   "source": [
    "## 3. Descriptive Statistics\n",
    "Below is some of statistics of the data:"
   ]
  },
  {
   "cell_type": "code",
   "execution_count": 2,
   "metadata": {
    "collapsed": false
   },
   "outputs": [
    {
     "data": {
      "text/html": [
       "<div>\n",
       "<table border=\"1\" class=\"dataframe\">\n",
       "  <thead>\n",
       "    <tr style=\"text-align: right;\">\n",
       "      <th></th>\n",
       "      <th>Congruent</th>\n",
       "      <th>Incongruent</th>\n",
       "    </tr>\n",
       "  </thead>\n",
       "  <tbody>\n",
       "    <tr>\n",
       "      <th>0</th>\n",
       "      <td>12.079</td>\n",
       "      <td>19.278</td>\n",
       "    </tr>\n",
       "    <tr>\n",
       "      <th>1</th>\n",
       "      <td>16.791</td>\n",
       "      <td>18.741</td>\n",
       "    </tr>\n",
       "    <tr>\n",
       "      <th>2</th>\n",
       "      <td>9.564</td>\n",
       "      <td>21.214</td>\n",
       "    </tr>\n",
       "    <tr>\n",
       "      <th>3</th>\n",
       "      <td>8.630</td>\n",
       "      <td>15.687</td>\n",
       "    </tr>\n",
       "    <tr>\n",
       "      <th>4</th>\n",
       "      <td>14.669</td>\n",
       "      <td>22.803</td>\n",
       "    </tr>\n",
       "    <tr>\n",
       "      <th>5</th>\n",
       "      <td>12.238</td>\n",
       "      <td>20.878</td>\n",
       "    </tr>\n",
       "    <tr>\n",
       "      <th>6</th>\n",
       "      <td>14.692</td>\n",
       "      <td>24.572</td>\n",
       "    </tr>\n",
       "    <tr>\n",
       "      <th>7</th>\n",
       "      <td>8.987</td>\n",
       "      <td>17.394</td>\n",
       "    </tr>\n",
       "    <tr>\n",
       "      <th>8</th>\n",
       "      <td>9.401</td>\n",
       "      <td>20.762</td>\n",
       "    </tr>\n",
       "    <tr>\n",
       "      <th>9</th>\n",
       "      <td>14.480</td>\n",
       "      <td>26.282</td>\n",
       "    </tr>\n",
       "    <tr>\n",
       "      <th>10</th>\n",
       "      <td>22.328</td>\n",
       "      <td>24.524</td>\n",
       "    </tr>\n",
       "    <tr>\n",
       "      <th>11</th>\n",
       "      <td>15.298</td>\n",
       "      <td>18.644</td>\n",
       "    </tr>\n",
       "    <tr>\n",
       "      <th>12</th>\n",
       "      <td>15.073</td>\n",
       "      <td>17.510</td>\n",
       "    </tr>\n",
       "    <tr>\n",
       "      <th>13</th>\n",
       "      <td>16.929</td>\n",
       "      <td>20.330</td>\n",
       "    </tr>\n",
       "    <tr>\n",
       "      <th>14</th>\n",
       "      <td>18.200</td>\n",
       "      <td>35.255</td>\n",
       "    </tr>\n",
       "    <tr>\n",
       "      <th>15</th>\n",
       "      <td>12.130</td>\n",
       "      <td>22.158</td>\n",
       "    </tr>\n",
       "    <tr>\n",
       "      <th>16</th>\n",
       "      <td>18.495</td>\n",
       "      <td>25.139</td>\n",
       "    </tr>\n",
       "    <tr>\n",
       "      <th>17</th>\n",
       "      <td>10.639</td>\n",
       "      <td>20.429</td>\n",
       "    </tr>\n",
       "    <tr>\n",
       "      <th>18</th>\n",
       "      <td>11.344</td>\n",
       "      <td>17.425</td>\n",
       "    </tr>\n",
       "    <tr>\n",
       "      <th>19</th>\n",
       "      <td>12.369</td>\n",
       "      <td>34.288</td>\n",
       "    </tr>\n",
       "    <tr>\n",
       "      <th>20</th>\n",
       "      <td>12.944</td>\n",
       "      <td>23.894</td>\n",
       "    </tr>\n",
       "    <tr>\n",
       "      <th>21</th>\n",
       "      <td>14.233</td>\n",
       "      <td>17.960</td>\n",
       "    </tr>\n",
       "    <tr>\n",
       "      <th>22</th>\n",
       "      <td>19.710</td>\n",
       "      <td>22.058</td>\n",
       "    </tr>\n",
       "    <tr>\n",
       "      <th>23</th>\n",
       "      <td>16.004</td>\n",
       "      <td>21.157</td>\n",
       "    </tr>\n",
       "  </tbody>\n",
       "</table>\n",
       "</div>"
      ],
      "text/plain": [
       "    Congruent  Incongruent\n",
       "0      12.079       19.278\n",
       "1      16.791       18.741\n",
       "2       9.564       21.214\n",
       "3       8.630       15.687\n",
       "4      14.669       22.803\n",
       "5      12.238       20.878\n",
       "6      14.692       24.572\n",
       "7       8.987       17.394\n",
       "8       9.401       20.762\n",
       "9      14.480       26.282\n",
       "10     22.328       24.524\n",
       "11     15.298       18.644\n",
       "12     15.073       17.510\n",
       "13     16.929       20.330\n",
       "14     18.200       35.255\n",
       "15     12.130       22.158\n",
       "16     18.495       25.139\n",
       "17     10.639       20.429\n",
       "18     11.344       17.425\n",
       "19     12.369       34.288\n",
       "20     12.944       23.894\n",
       "21     14.233       17.960\n",
       "22     19.710       22.058\n",
       "23     16.004       21.157"
      ]
     },
     "execution_count": 2,
     "metadata": {},
     "output_type": "execute_result"
    }
   ],
   "source": [
    "import pandas as pd\n",
    "\n",
    "# Path to CSV file of the data\n",
    "path = r'stroopdata.csv'\n",
    "\n",
    "# Read the data in CSV file\n",
    "dataFrame = pd.read_csv(path)\n",
    "\n",
    "# Showing the data\n",
    "dataFrame"
   ]
  },
  {
   "cell_type": "code",
   "execution_count": 12,
   "metadata": {
    "collapsed": false
   },
   "outputs": [
    {
     "name": "stdout",
     "output_type": "stream",
     "text": [
      "    Congruent  Incongruent  difference\n",
      "0      12.079       19.278      -7.199\n",
      "1      16.791       18.741      -1.950\n",
      "2       9.564       21.214     -11.650\n",
      "3       8.630       15.687      -7.057\n",
      "4      14.669       22.803      -8.134\n",
      "5      12.238       20.878      -8.640\n",
      "6      14.692       24.572      -9.880\n",
      "7       8.987       17.394      -8.407\n",
      "8       9.401       20.762     -11.361\n",
      "9      14.480       26.282     -11.802\n",
      "10     22.328       24.524      -2.196\n",
      "11     15.298       18.644      -3.346\n",
      "12     15.073       17.510      -2.437\n",
      "13     16.929       20.330      -3.401\n",
      "14     18.200       35.255     -17.055\n",
      "15     12.130       22.158     -10.028\n",
      "16     18.495       25.139      -6.644\n",
      "17     10.639       20.429      -9.790\n",
      "18     11.344       17.425      -6.081\n",
      "19     12.369       34.288     -21.919\n",
      "20     12.944       23.894     -10.950\n",
      "21     14.233       17.960      -3.727\n",
      "22     19.710       22.058      -2.348\n",
      "23     16.004       21.157      -5.153 \n",
      "\n",
      "Descriptive Statistics:\n",
      "\n",
      "       Congruent  Incongruent  difference\n",
      "count  24.000000    24.000000   24.000000\n",
      "mean   14.051125    22.015917   -7.964792\n",
      "std     3.559358     4.797057    4.864827\n",
      "min     8.630000    15.687000  -21.919000\n",
      "25%    11.895250    18.716750  -10.258500\n",
      "50%    14.356500    21.017500   -7.666500\n",
      "75%    16.200750    24.051500   -3.645500\n",
      "max    22.328000    35.255000   -1.950000 \n",
      "\n",
      "The mean of Difference is -7.96479166667\n",
      "The median of Difference is -7.6665\n",
      "The standard deviation of Difference is 4.86482691036\n"
     ]
    }
   ],
   "source": [
    "# Difference of paired data to be analyzed\n",
    "dataFrame['difference'] = dataFrame['Congruent'] - dataFrame['Incongruent']\n",
    "print dataFrame, '\\n'\n",
    "print 'Descriptive Statistics:\\n'\n",
    "print dataFrame.describe(), '\\n'\n",
    "\n",
    "# Storing mean of the difference in a var\n",
    "mean = dataFrame.difference.mean()\n",
    "print \"The mean of Difference is\", mean\n",
    "\n",
    "# Storing median of the difference in a var\n",
    "median = dataFrame.difference.median()\n",
    "print \"The median of Difference is\", median\n",
    "\n",
    "# Storing sample standard deviation of the difference in a var\n",
    "std = dataFrame.difference.std()\n",
    "print \"The standard deviation of Difference is\", std\n"
   ]
  },
  {
   "cell_type": "markdown",
   "metadata": {},
   "source": [
    "## 4. Visualizations"
   ]
  },
  {
   "cell_type": "code",
   "execution_count": 15,
   "metadata": {
    "collapsed": false
   },
   "outputs": [
    {
     "name": "stdout",
     "output_type": "stream",
     "text": [
      "Populating the interactive namespace from numpy and matplotlib\n"
     ]
    },
    {
     "data": {
      "image/png": "[encoded data removed]",
      "text/plain": [
       "<matplotlib.figure.Figure at 0x10715cb10>"
      ]
     },
     "metadata": {},
     "output_type": "display_data"
    }
   ],
   "source": [
    "# Causes plots to display within the notebook rather than in a new window\n",
    "%pylab inline\n",
    "\n",
    "import matplotlib.pyplot as plt\n",
    "\n",
    "plt.hist(dataFrame.difference, 5, normed=1, facecolor=\"green\")\n",
    "plt.xlabel(\"Difference of Time in Second\")\n",
    "plt.ylabel(\"frequency\")\n",
    "plt.title(\"Difference of Time in Stroop Effect Experiment\")\n",
    "plt.show()"
   ]
  },
  {
   "cell_type": "markdown",
   "metadata": {},
   "source": [
    "## 5. Statistical Test\n",
    "- **Alpha Level** = **.05**\n",
    "- **Degrees of Freedom** = n - 1 = 24 - 1 = **23**\n",
    "- **t-critical Value** (two-tails) = **2.069 and -2.069**\n",
    "\n",
    "Calculating t-value:"
   ]
  },
  {
   "cell_type": "code",
   "execution_count": 18,
   "metadata": {
    "collapsed": false
   },
   "outputs": [
    {
     "name": "stdout",
     "output_type": "stream",
     "text": [
      "t value is equal to -8.02070694411\n"
     ]
    }
   ],
   "source": [
    "t = mean / (std / (24**.5))\n",
    "\n",
    "print \"t value is equal to\", t"
   ]
  },
  {
   "cell_type": "markdown",
   "metadata": {},
   "source": [
    "- **Reject H0** because t-value falls within the lower tail of critical region\n",
    "- **Conclusion**: The time to complete the incongruent task is **significantly different** with the time to complete the congruent task. Moreover, the time to complete the incongruent task is **significantly greater** than the time to complete the congruent task because the t-value falls within the lower tail of the critical region."
   ]
  },
  {
   "cell_type": "markdown",
   "metadata": {},
   "source": [
    "## 6. Discussion\n",
    "### Plausible Explanation\n",
    "As analyzed above, the data suggests that people would take longer time to tell the color of the word when the written word and its color are incongruent. One possible explanation of this is that it might be the case that people learn a pattern from the first task, the congruent one, that the word and its color would tell the same thing. When that is not the case anymore in the second task, they would do worse because they have to unlearn the rule from the first task and start learning the pattern again from scratch.\n",
    "### Further Experiment\n",
    "A further experiment to test this explanation would be to measure the speed of typing of people typing using QUERTY keyboard for the first task and typing using DVORAK keyboard for the second task. This might test the explanation that people tend to built a layer of pattern to do certain task and it is typing in qwerty in this case. When the pattern is taken out from them, using DVORAK keyboard, they would do worse.\n",
    "## Caveat\n",
    "Downside of the experiment above might be that there are some people who might already familiar with typing on DVORAK keyboards. In that case, the keyboards for the second task could be replaced with a keyboard with randomized keys is neither QWERTY nor DVORAK."
   ]
  }
 ],
 "metadata": {
  "kernelspec": {
   "display_name": "Python 2",
   "language": "python",
   "name": "python2"
  },
  "language_info": {
   "codemirror_mode": {
    "name": "ipython",
    "version": 2
   },
   "file_extension": ".py",
   "mimetype": "text/x-python",
   "name": "python",
   "nbconvert_exporter": "python",
   "pygments_lexer": "ipython2",
   "version": "2.7.11"
  }
 },
 "nbformat": 4,
 "nbformat_minor": 0
}
